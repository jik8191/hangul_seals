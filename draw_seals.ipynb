{
 "cells": [
  {
   "cell_type": "code",
   "execution_count": 1,
   "metadata": {},
   "outputs": [
    {
     "name": "stdout",
     "output_type": "stream",
     "text": [
      "故 koh\n",
      "其 ki\n",
      "戰 cjenh\n",
      "勝 sjingh\n",
      "不 pyot\n",
      "忒 thok\n",
      "不 pyot\n",
      "忒 thok\n",
      "者 cjax\n",
      "其 ki\n",
      "所 sriox\n",
      "措 choh\n",
      "必 pjit\n",
      "勝 sjingh\n",
      "勝 sjingh\n",
      "已 zsix\n",
      "敗 prad\n",
      "者 cjax\n",
      "也 jax\n"
     ]
    }
   ],
   "source": [
    "from PIL import ImageFont, ImageDraw, Image\n",
    "from IPython.display import display # to display images\n",
    "from pprint import pprint\n",
    "import json, random, os\n",
    "import numpy as np\n",
    "\n",
    "\n",
    "INPUT_FILENAME_ZH_CN = 'chars_simpl.json'\n",
    "INPUT_FILENAME_ZH_TW = 'chars_trad.json'\n",
    "\n",
    "\n",
    "def read_yaml_sounds(filename, offset):\n",
    "    # return dictionary of sounds\n",
    "    sounds = {}\n",
    "    with open(filename) as f:\n",
    "    # remove header\n",
    "        for i in range(offset):\n",
    "            next(f)\n",
    "        for line in f:\n",
    "            line_split = line.split()\n",
    "            if (len(line_split) == 2):\n",
    "                key, val = line.split()[:2]\n",
    "                sounds[key] = val\n",
    "            if (len(line_split) == 3 and \n",
    "                len(line_split[0]) == 1 and float(line_split[-1][:-1])>= 50):\n",
    "                # third column indicates percentages for characters with \n",
    "                # multiple pronunciations \n",
    "                key, val = line.split()[:2]\n",
    "                sounds[key] = val\n",
    "    return sounds\n",
    "\n",
    "# middle (Tang Dynasty reconstruction) Chinese  \n",
    "sounds_mc = read_yaml_sounds(\"sounds/zyenpheng.dict.yaml\", 18)\n",
    "# Standard (Peking) Mandarin pronunciations\n",
    "sounds_pk = read_yaml_sounds(\"sounds/terra_pinyin.dict.yaml\", 33)\n",
    "sounds_pk_simp = read_yaml_sounds(\"sounds/luna_pinyin.dict.yaml\", 36) \n",
    "# Shanghai Wu pronunciations (no tones)\n",
    "sounds_sh = read_yaml_sounds(\"sounds/wugniu_lopha.dict.yaml\", 21)\n",
    "# Guangzhou Cantonese pronunciations (no tones)\n",
    "sounds_gz = read_yaml_sounds(\"sounds/jyutping.dict.yaml\", 18)\n",
    "\n",
    "dict_sounds = {\n",
    "    \"mc\" : sounds_mc,\n",
    "    \"pk\" : sounds_pk,\n",
    "    \"sh\" : sounds_sh,\n",
    "    \"gz\" : sounds_gz,\n",
    "    \"pk_s\" : sounds_pk_simp\n",
    "}\n",
    "\n",
    "string = \"故其戰勝不忒不忒者其所措必勝勝已敗者也\"\n",
    "for char in string:\n",
    "    print(char, dict_sounds[\"mc\"][char])\n",
    "\n",
    "\n",
    "def get4(thechars):\n",
    "    return random.sample(thechars,4)\n",
    "\n",
    "def get4seal(thechars):\n",
    "    indices = np.random.randint(0,255,4)\n",
    "    # mychars = [thechars]\n",
    "    myseal = u\"%s%s\\n%s%s\" % (thechars[indices[0]], \n",
    "                              thechars[indices[1]+256], \n",
    "                              thechars[indices[2]+256], \n",
    "                              thechars[indices[3]+256])\n",
    "    return myseal\n",
    "    \n",
    "def make_seal_im(mychars, fontpath='./fonts/SimSun.ttf', \n",
    "                 imsize=(256,256), fontsize=128, \n",
    "                 offsets=(0,0)):\n",
    "\n",
    "    ttf = ImageFont.truetype(fontpath, fontsize)\n",
    "    im = Image.new(\"RGB\", imsize, \"black\")\n",
    "    draw = ImageDraw.Draw(im)\n",
    "    \n",
    "    assert len(mychars) == 4\n",
    "    char1, char2, char3, char4 = mychars\n",
    "    deltax, deltay = offsets\n",
    "    \n",
    "    # now figure out the locations based equal spacing of mysize\n",
    "    col1, row1 = 0 + deltax, 0 + deltay\n",
    "    col2, row2 = (imsize[0] // 2) + deltax, (imsize[1] // 2) + deltay\n",
    "    \n",
    "    #ImageDraw.Draw(im).text( (col1,row1), char1, fill='red', font=ttf)\n",
    "    #ImageDraw.Draw(im).text( (col2,row1), char2, fill='green', font=ttf)    \n",
    "    #ImageDraw.Draw(im).text( (col1,row2), char3, fill='blue', font=ttf)\n",
    "    #ImageDraw.Draw(im).text( (col2,row2), char4, fill='white', font=ttf)\n",
    "\n",
    "    # right to left, top to bottom\n",
    "    draw.text( (col1,row1), char1, fill='white', font=ttf)\n",
    "    draw.text( (col2,row1), char2, fill='white', font=ttf)    \n",
    "    draw.text( (col1,row2), char3, fill='white', font=ttf)\n",
    "    draw.text( (col2,row2), char4, fill='white', font=ttf)\n",
    "    \n",
    "    return im\n",
    "\n",
    "\n",
    "\n",
    "def seal_to_string(seal): \n",
    "    new = \"\" \n",
    "    for x in seal: \n",
    "        new += x  \n",
    "    return new \n",
    "\n",
    "def save_seal_to_text(ofilename, seal):\n",
    "    otxtfileobj = open(ofilename,\"w\")\n",
    "    otxtfileobj.write(seal_to_string(seal))\n",
    "    otxtfileobj.close()\n",
    "\n",
    "\n",
    "def save_random_seals_to_dir(fontpath, output_directory, \n",
    "                             numseals, chinese_chars, sound, offsets):\n",
    "    assert os.path.isfile(fontpath), \"%s was not a file!\" % fontpath\n",
    "\n",
    "    if not os.path.isdir( output_directory):\n",
    "        print(\"Creating %s...\" % output_directory)\n",
    "        os.makedirs(output_directory)\n",
    "\n",
    "    for i in range(numseals):\n",
    "        myseal = get4(chinese_chars)\n",
    "        # save characters and identify broken ones for the font\n",
    "        sounds = dict_sounds[sound]\n",
    "        char_sounds = sounds[myseal[0]] + sounds[myseal[1]] + \\\n",
    "                      sounds[myseal[2]] + sounds[myseal[3]] \n",
    "        otxtfilename = \"%s/%s.txt\" % (output_directory, char_sounds)\n",
    "        save_seal_to_text(otxtfilename, myseal)\n",
    "        im = make_seal_im(myseal, fontpath=fontpath, offsets=offsets)\n",
    "        ofilename = \"%s/%s.png\" % (output_directory, char_sounds)\n",
    "        im.save( ofilename, format='PNG')\n",
    "        #print(\"Saved to %s...\" % ofilename)\n",
    "\n",
    "    #print(\"Saved\", numseals, \"images to\", output_directory)\n",
    "    \n",
    "\n",
    "\n",
    "with open('chars_trad.json') as f:\n",
    "    chinese_chars_trad = json.load(f)\n",
    "    \n",
    "with open('chars_simpl.json') as f:\n",
    "    chinese_chars_simpl = json.load(f)"
   ]
  },
  {
   "cell_type": "code",
   "execution_count": 2,
   "metadata": {},
   "outputs": [
    {
     "name": "stdout",
     "output_type": "stream",
     "text": [
      "Printing 5 random seals...\n",
      "此準\n",
      "備類 \n",
      "\n",
      "主強\n",
      "綫飛 \n",
      "\n",
      "將司\n",
      "連王 \n",
      "\n",
      "但金\n",
      "除邊 \n",
      "\n",
      "必算\n",
      "路失 \n",
      "\n"
     ]
    }
   ],
   "source": [
    "print(\"Printing 5 random seals...\")\n",
    "for i in range(5):\n",
    "    print( get4seal(chinese_chars_trad), '\\n' )"
   ]
  },
  {
   "cell_type": "code",
   "execution_count": 3,
   "metadata": {},
   "outputs": [
    {
     "name": "stdout",
     "output_type": "stream",
     "text": [
      "Printing 5 random seals images...\n"
     ]
    },
    {
     "data": {
      "image/png": "[encoded data removed]",
      "text/plain": [
       "<PIL.Image.Image image mode=RGB size=256x256 at 0x7FAFF849F670>"
      ]
     },
     "metadata": {},
     "output_type": "display_data"
    },
    {
     "name": "stdout",
     "output_type": "stream",
     "text": [
      "Saved to 0.png...\n"
     ]
    },
    {
     "data": {
      "image/png": "[encoded data removed]",
      "text/plain": [
       "<PIL.Image.Image image mode=RGB size=256x256 at 0x7FAFF849F490>"
      ]
     },
     "metadata": {},
     "output_type": "display_data"
    },
    {
     "name": "stdout",
     "output_type": "stream",
     "text": [
      "Saved to 1.png...\n"
     ]
    },
    {
     "data": {
      "image/png": "[encoded data removed]",
      "text/plain": [
       "<PIL.Image.Image image mode=RGB size=256x256 at 0x7FAFF8530A90>"
      ]
     },
     "metadata": {},
     "output_type": "display_data"
    },
    {
     "name": "stdout",
     "output_type": "stream",
     "text": [
      "Saved to 2.png...\n"
     ]
    },
    {
     "data": {
      "image/png": "[encoded data removed]",
      "text/plain": [
       "<PIL.Image.Image image mode=RGB size=256x256 at 0x7FAFF849F490>"
      ]
     },
     "metadata": {},
     "output_type": "display_data"
    },
    {
     "name": "stdout",
     "output_type": "stream",
     "text": [
      "Saved to 3.png...\n"
     ]
    },
    {
     "data": {
      "image/png": "[encoded data removed]",
      "text/plain": [
       "<PIL.Image.Image image mode=RGB size=256x256 at 0x7FAFF85304C0>"
      ]
     },
     "metadata": {},
     "output_type": "display_data"
    },
    {
     "name": "stdout",
     "output_type": "stream",
     "text": [
      "Saved to 4.png...\n"
     ]
    }
   ],
   "source": [
    "print(\"Printing 5 random seals images...\")\n",
    "for i in range(5):\n",
    "    # im = make_seal_im(get4(chinese_chars_trad), fontpath='./fonts/WanYongCuLi-2.ttf' )\n",
    "    im = make_seal_im(get4(chinese_chars_trad), fontpath='./fonts/NotoSansSC-Bold.otf', offsets=(0,-36))\n",
    "    display(im)\n",
    "    print(\"Saved to %s.png...\" % i)\n",
    "\n",
    "    \n",
    "    im.save(\"%s.png\" % i, format='PNG')"
   ]
  },
  {
   "cell_type": "code",
   "execution_count": null,
   "metadata": {},
   "outputs": [],
   "source": []
  },
  {
   "cell_type": "code",
   "execution_count": 5,
   "metadata": {},
   "outputs": [
    {
     "name": "stdout",
     "output_type": "stream",
     "text": [
      "Saved 100 images to output/HMA\n",
      "Saved 100 images to output/edusong\n",
      "Saved 100 images to output/edukai\n",
      "Saved 100 images to output/MoeLI\n",
      "Saved 100 images to output/HansSansBold\n",
      "Saved 100 images to output/NotoSansBold\n",
      "Saved 100 images to output/NotoSansMono\n",
      "Saved 100 images to output/wqy-mhei\n",
      "Saved 100 images to output/LongCang\n",
      "Saved 100 images to output/KuaiLe\n",
      "Saved 100 images to output/KeHuangYou\n",
      "Saved 100 images to output/XiaoWei\n",
      "Saved 100 images to output/本墨钧宋/\n"
     ]
    }
   ],
   "source": [
    "FONTS_AND_OUTPUTS_ZH_TW = [\n",
    "    ('./fonts/HanaMinA.ttf', 'output/HMA', \"sh\", (0,0)),\n",
    "    # from https://depart.moe.edu.tw/ED2400/News.aspx?n=3783ED6E5EB0B437&sms=707ED96D12B73148\n",
    "    ('./fonts/eduSong_Unicode.ttf', 'output/edusong', \"pk\", (0,0)),\n",
    "    ('./fonts/edukai-4.0.ttf', 'output/edukai', \"pk\", (0,0)),    # regular script\n",
    "    ('./fonts/MoeLI.ttf', 'output/MoeLI', \"mc\", (0,-24)),          # clerical script\n",
    "    #('./fonts/SimSun.ttf', 'output/SimSun'),\n",
    "    #('./fonts/WanYongCuLi-2.ttf', 'output/WanYoung'),\n",
    "    ('./fonts/SourceHanSansTW-Bold.otf', 'output/HansSansBold', \"gz\", (0,-36)),\n",
    "    ('./fonts/NotoSansSC-Bold.otf', 'output/NotoSansBold', \"gz\", (0,-36)),\n",
    "    ('./fonts/NotoSansMonoCJKtc-Regular.otf', 'output/NotoSansMono', \"pk\", (0,-36)),\n",
    "    ('./fonts/wqy-microhei.ttc', 'output/wqy-mhei', \"sh\", (0,-8)),\n",
    "]\n",
    "\n",
    "FONTS_AND_OUTPUTS_ZH_CN = [\n",
    "    ('./fonts/LongCang-Regular.ttf', 'output/LongCang', \"pk_s\", (0,0)),\n",
    "    ('./fonts/ZCOOLKuaiLe-Regular.ttf', 'output/KuaiLe', \"pk_s\", (0,0)),\n",
    "    ('./fonts/ZCOOLQingKeHuangYou-Regular.ttf', 'output/KeHuangYou', \"pk_s\", (0,0)),\n",
    "    ('./fonts/ZCOOLXiaoWei-Regular.ttf', 'output/XiaoWei', \"pk_s\", (0,0)),\n",
    "    ('./fonts/本墨钧宋.ttf', 'output/本墨钧宋/', \"pk_s\", (0,0)),\n",
    "]\n",
    "\n",
    "\n",
    "numseals = 100\n",
    "\n",
    "for fontfile, outputdir, sound, offset in FONTS_AND_OUTPUTS_ZH_TW:\n",
    "    save_random_seals_to_dir(fontfile, outputdir, numseals, chinese_chars_trad, sound, offset)\n",
    "    print(\"Saved\", numseals, \"images to\", outputdir)\n",
    "\n",
    "\n",
    "\n",
    "for fontfile, outputdir, sound, offset in FONTS_AND_OUTPUTS_ZH_CN:\n",
    "    save_random_seals_to_dir(fontfile, outputdir, numseals, chinese_chars_simpl, sound, offset)\n",
    "    print(\"Saved\", numseals, \"images to\", outputdir)\n"
   ]
  },
  {
   "cell_type": "code",
   "execution_count": null,
   "metadata": {},
   "outputs": [],
   "source": []
  },
  {
   "cell_type": "code",
   "execution_count": null,
   "metadata": {},
   "outputs": [],
   "source": []
  }
 ],
 "metadata": {
  "kernelspec": {
   "display_name": "Python 3",
   "language": "python",
   "name": "python3"
  },
  "language_info": {
   "codemirror_mode": {
    "name": "ipython",
    "version": 3
   },
   "file_extension": ".py",
   "mimetype": "text/x-python",
   "name": "python",
   "nbconvert_exporter": "python",
   "pygments_lexer": "ipython3",
   "version": "3.8.5"
  }
 },
 "nbformat": 4,
 "nbformat_minor": 4
}
